{
 "cells": [
  {
   "cell_type": "code",
   "execution_count": null,
   "metadata": {},
   "outputs": [],
   "source": [
    "from PIL import Image # used for loading images\n",
    "import numpy as np\n",
    "import os, sys # used for navigating to image path\n",
    "import imageio # used for writing images\n",
    "import pandas as pd\n",
    "import cv2\n",
    "import numpy as np\n",
    "\n",
    "import glob\n"
   ]
  },
  {
   "cell_type": "code",
   "execution_count": null,
   "metadata": {},
   "outputs": [],
   "source": [
    "from keras.layers import Conv2D\n",
    "from keras.layers import MaxPooling2D\n",
    "from keras.layers import Flatten\n",
    "from keras.layers import Dense\n",
    "from keras.layers import Activation\n",
    "from keras.models import model_from_json\n",
    "from keras.models import Sequential\n",
    "from keras.utils import to_categorical\n",
    "\n",
    "\n",
    "import matplotlib.pyplot as plt\n",
    "%matplotlib inline"
   ]
  },
  {
   "cell_type": "code",
   "execution_count": null,
   "metadata": {},
   "outputs": [],
   "source": [
    "def resize_images(path):\n",
    "    directory = path\n",
    "\n",
    "    for file_name in os.listdir(directory):\n",
    "      print(\"Processing %s\" % file_name)\n",
    "      image = Image.open(os.path.join(directory, file_name))\n",
    "\n",
    "      x,y = image.size\n",
    "      new_dimensions = (200, 200)\n",
    "      output = image.resize(new_dimensions, Image.ANTIALIAS)\n",
    "\n",
    "      output_file_name = os.path.join(directory, file_name)\n",
    "      output.save(output_file_name, \"PNG\", quality = 100)\n",
    "\n",
    "    print(\"All done\")"
   ]
  },
  {
   "cell_type": "code",
   "execution_count": null,
   "metadata": {},
   "outputs": [],
   "source": [
    "path1 = \"/home/komaldadhich/Documents/study/Research/graph_percept/source/project/chart-data-extraction/classifier/Chart_classifier/dataset2/train/bar\"\n",
    "path2 = \"/home/komaldadhich/Documents/study/Research/graph_percept/source/project/chart-data-extraction/classifier/Chart_classifier/dataset2/train/scatterplot\"\n",
    "path3 = \"/home/komaldadhich/Documents/study/Research/graph_percept/source/project/chart-data-extraction/classifier/Chart_classifier/dataset2/train/line\"\n",
    "path4 = \"/home/komaldadhich/Documents/study/Research/graph_percept/source/project/chart-data-extraction/classifier/Chart_classifier/dataset2/train/pie\"\n",
    "resize_images(path1)\n",
    "resize_images(path2)\n",
    "resize_images(path3)\n",
    "resize_images(path4)"
   ]
  },
  {
   "cell_type": "code",
   "execution_count": null,
   "metadata": {},
   "outputs": [],
   "source": [
    "def load_data(csv_path):\n",
    "    image_data = []\n",
    "    label_data = []\n",
    "    df = pd.read_csv(csv_path, sep=\",\", index_col=False)\n",
    "    data_len = len(df['Image_path'])\n",
    "    for i in range(data_len):\n",
    "        temp = cv2.imread(df['Image_path'][i])\n",
    "        temp = (cv2.cvtColor(temp, cv2.COLOR_BGR2RGB)).tolist()\n",
    "        image_data.append(temp)\n",
    "        if df['Class'][i] == 'bar':\n",
    "            label_data.append([1, 0, 0, 0, 0])\n",
    "#             label_data.append(1)\n",
    "        elif df['Class'][i] == 'scatterplot':\n",
    "            label_data.append([0, 1, 0, 0, 0])\n",
    "#               label_data.append(2)\n",
    "        elif df['Class'][i] == 'line':\n",
    "            label_data.append([0, 0, 1, 0, 0])\n",
    "#             label_data.append(3)\n",
    "        elif df['Class'][i] == 'pie':\n",
    "            label_data.append([0, 0, 0, 1, 0])\n",
    "#             label_data.append(4)\n",
    "        else:\n",
    "            label_data.append([0, 0, 0, 0, 1])\n",
    "    return (image_data, label_data)\n",
    "        "
   ]
  },
  {
   "cell_type": "code",
   "execution_count": null,
   "metadata": {},
   "outputs": [],
   "source": [
    "num_classes = 4\n",
    "epochs = 3"
   ]
  },
  {
   "cell_type": "code",
   "execution_count": null,
   "metadata": {},
   "outputs": [],
   "source": [
    "X_test, y_test = load_data(\"/home/komaldadhich/Documents/study/Research/graph_percept/source/project/chart-data-extraction/classifier/Chart_classifier/dataset2/test/labels.csv\")"
   ]
  },
  {
   "cell_type": "code",
   "execution_count": null,
   "metadata": {},
   "outputs": [],
   "source": [
    "X_train, y_train = load_data(\"/home/komaldadhich/Documents/study/Research/graph_percept/source/project/chart-data-extraction/classifier/Chart_classifier/dataset2/train/labels.csv\")"
   ]
  },
  {
   "cell_type": "code",
   "execution_count": null,
   "metadata": {},
   "outputs": [],
   "source": [
    "X_train = np.array(X_train)\n",
    "X_test = np.array(X_test)\n",
    "y_train = np.array(y_train)\n",
    "y_test = np.array(y_test)\n",
    "print(X_test.shape)\n",
    "print(X_train.shape)\n",
    "print (y_train[0])\n",
    "# print len(y_test)\n",
    "plt.imshow(X_train[0])"
   ]
  },
  {
   "cell_type": "code",
   "execution_count": null,
   "metadata": {},
   "outputs": [],
   "source": [
    "X_train = X_train.reshape(1865,200,200,3)\n",
    "X_test = X_test.reshape(247,200,200,3)\n",
    "X_train = X_train.astype('float32')\n",
    "X_test = X_test.astype('float32')\n",
    "X_train /= 255.0\n",
    "# X_test /= 255.0\n",
    "# y_train = to_categorical(y_train,num_classes)\n",
    "# y_test = to_categorical(y_test, num_classes)"
   ]
  },
  {
   "cell_type": "code",
   "execution_count": null,
   "metadata": {},
   "outputs": [],
   "source": [
    "print(X_train.shape)\n",
    "print(y_train.shape)\n",
    "print(X_test.shape)\n",
    "print(y_test.shape)"
   ]
  },
  {
   "cell_type": "code",
   "execution_count": null,
   "metadata": {
    "scrolled": true
   },
   "outputs": [],
   "source": [
    "cnn = Sequential()\n",
    "cnn.add(Conv2D(16, kernel_size=(5,5),input_shape=(200,200,3), padding='same', activation='relu', data_format='channels_last'))\n",
    "cnn.add(Conv2D(16, kernel_size=(5,5), padding='same', activation='relu'))\n",
    "# cnn.add(Activation('relu'))\n",
    "# print (cnn.output_shape)\n",
    "cnn.add(MaxPooling2D())\n",
    "cnn.add(Conv2D(16, kernel_size=(5,5),padding='same', activation='relu'))\n",
    "cnn.add(Conv2D(16, kernel_size=(5,5), padding='same', activation='relu'))\n",
    "# cnn.add(Activation('relu'))\n",
    "cnn.add(MaxPooling2D())\n",
    "cnn.add(Conv2D(32, kernel_size=(5,5),padding='same', activation='relu'))\n",
    "cnn.add(Conv2D(32, kernel_size=(5,5), padding='same', activation='relu'))\n",
    "# cnn.add(Activation('relu'))\n",
    "cnn.add(MaxPooling2D())\n",
    "cnn.add(Conv2D(64, kernel_size=(5,5),padding='same', activation='relu'))\n",
    "cnn.add(Conv2D(64, kernel_size=(5,5), padding='same', activation='relu'))\n",
    "# cnn.add(Activation('relu'))\n",
    "cnn.add(MaxPooling2D())\n",
    "cnn.add(Flatten())        \n",
    "print (cnn.output_shape)\n",
    "cnn.add(Dense(16, activation='relu'))\n",
    "# cnn.add(Flatten()) \n",
    "# cnn.add(Activation('relu'))\n",
    "# cnn.add(Dropout(0.25))\n",
    "cnn.add(Dense(5, activation='softmax'))\n",
    "cnn.compile(loss='categorical_crossentropy', optimizer='rmsprop', metrics=['accuracy'])\n",
    "cnn.summary()"
   ]
  },
  {
   "cell_type": "code",
   "execution_count": null,
   "metadata": {
    "scrolled": true
   },
   "outputs": [],
   "source": [
    "history_cnn = cnn.fit(X_train,y_train,epochs=10,verbose=1,validation_data=(X_train,y_train))"
   ]
  },
  {
   "cell_type": "code",
   "execution_count": null,
   "metadata": {},
   "outputs": [],
   "source": [
    "plt.plot(history_cnn.history['acc'])"
   ]
  },
  {
   "cell_type": "code",
   "execution_count": null,
   "metadata": {},
   "outputs": [],
   "source": [
    "plt.plot(history_cnn.history['loss'])"
   ]
  },
  {
   "cell_type": "code",
   "execution_count": null,
   "metadata": {},
   "outputs": [],
   "source": [
    "score = cnn.evaluate(X_test, y_test)"
   ]
  },
  {
   "cell_type": "code",
   "execution_count": null,
   "metadata": {},
   "outputs": [],
   "source": [
    "score"
   ]
  },
  {
   "cell_type": "code",
   "execution_count": null,
   "metadata": {},
   "outputs": [],
   "source": [
    "# serialize model to JSON\n",
    "model_json = cnn.to_json()\n",
    "with open(\"model.json\", \"w\") as json_file:\n",
    "    json_file.write(model_json)\n",
    "# serialize weights to HDF5\n",
    "cnn.save_weights(\"model.h5\")\n",
    "print(\"Saved model to disk\")"
   ]
  },
  {
   "cell_type": "code",
   "execution_count": null,
   "metadata": {},
   "outputs": [],
   "source": [
    "from numpy import loadtxt\n",
    "from keras.models import load_model\n",
    "from keras.models import model_from_json\n",
    "\n",
    "# load json and create model\n",
    "json_file = open('model.json', 'r')\n",
    "loaded_model_json = json_file.read()\n",
    "json_file.close()\n",
    "loaded_model = model_from_json(loaded_model_json)\n",
    "\n",
    "# load weights into new model\n",
    "loaded_model.load_weights(\"model.h5\")\n",
    "print(\"Loaded model from disk\")\n",
    "loaded_model.summary()"
   ]
  },
  {
   "cell_type": "code",
   "execution_count": null,
   "metadata": {},
   "outputs": [],
   "source": [
    "# image = cv2.imread(\"/home/komaldadhich/Documents/study/Research/graph_percept/source/project/chart_percept/charts/bars/bc01/bc01-src.png\")\n",
    "# image = cv2.imread(\"/home/komaldadhich/Desktop/point4.png\")\n",
    "# image = cv2.imread(\"/home/komaldadhich/Desktop/download_bar2.png\")\n",
    "# image = cv2.imread(\"/home/komaldadhich/Desktop/simple_bar.png\")\n",
    "# image = cv2.imread(\"/home/komaldadhich/Desktop/images.png\")\n",
    "# image = cv2.imread(\"/home/komaldadhich/Desktop/stacked.png\")\n",
    "\n",
    "# image = cv2.imread(\"/home/komaldadhich/Desktop/line5.jpeg\")\n",
    "# image = cv2.imread(\"/home/komaldadhich/Desktop/pie4.jpeg\")\n",
    "\n",
    "from PIL import Image\n",
    "import matplotlib.pyplot as plt\n",
    "import numpy as np\n",
    "#\n",
    "image = Image.open(\"/home/komaldadhich/Documents/study/Research/graph_percept/source/project/chart-data-extraction/classifier/Chart_classifier/bartype/horizontal_simple_bar/bar1.png\")\n",
    "# image = Image.open(\"/home/komaldadhich/Desktop/thin bar/images.png\")\n",
    "# image = Image.open(\"/home/komaldadhich/Desktop/stacked.png\")\n",
    "rgb_im = image.convert('RGB')\n",
    "# image = cv2.resize(image, (200, 200))\n",
    "print(image.size)\n",
    "image = rgb_im.resize((200, 200), Image.ANTIALIAS)\n",
    "plt.imshow(rgb_im)\n",
    "image = np.asarray(image)\n",
    "print (image.shape)\n",
    "image = image[...,:3].reshape(1, 200, 200, 3)\n",
    "image = image.astype('float32')\n",
    "image /= 255.0\n"
   ]
  },
  {
   "cell_type": "code",
   "execution_count": null,
   "metadata": {},
   "outputs": [],
   "source": [
    "# pred = cnn.predict_classes(image)\n",
    "pred = loaded_model.predict_classes(image)"
   ]
  },
  {
   "cell_type": "code",
   "execution_count": null,
   "metadata": {},
   "outputs": [],
   "source": [
    "pred"
   ]
  },
  {
   "cell_type": "code",
   "execution_count": null,
   "metadata": {},
   "outputs": [],
   "source": [
    "loaded_model.predict(image)"
   ]
  },
  {
   "cell_type": "code",
   "execution_count": null,
   "metadata": {},
   "outputs": [],
   "source": []
  },
  {
   "cell_type": "code",
   "execution_count": null,
   "metadata": {},
   "outputs": [],
   "source": []
  }
 ],
 "metadata": {
  "kernelspec": {
   "display_name": "venv",
   "language": "python",
   "name": "venv"
  },
  "language_info": {
   "codemirror_mode": {
    "name": "ipython",
    "version": 3
   },
   "file_extension": ".py",
   "mimetype": "text/x-python",
   "name": "python",
   "nbconvert_exporter": "python",
   "pygments_lexer": "ipython3",
   "version": "3.6.8"
  }
 },
 "nbformat": 4,
 "nbformat_minor": 2
}
