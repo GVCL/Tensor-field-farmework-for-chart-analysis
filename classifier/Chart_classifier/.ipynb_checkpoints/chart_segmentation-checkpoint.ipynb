{
 "cells": [
  {
   "cell_type": "code",
   "execution_count": 1,
   "metadata": {},
   "outputs": [
    {
     "name": "stderr",
     "output_type": "stream",
     "text": [
      "Using TensorFlow backend.\n",
      "/home/komaldadhich/Documents/study/Research/graph_percept/Chart-Image-Classification/venv/lib/python3.6/site-packages/tensorflow/python/framework/dtypes.py:469: FutureWarning: Passing (type, 1) or '1type' as a synonym of type is deprecated; in a future version of numpy, it will be understood as (type, (1,)) / '(1,)type'.\n",
      "  _np_qint8 = np.dtype([(\"qint8\", np.int8, 1)])\n",
      "/home/komaldadhich/Documents/study/Research/graph_percept/Chart-Image-Classification/venv/lib/python3.6/site-packages/tensorflow/python/framework/dtypes.py:470: FutureWarning: Passing (type, 1) or '1type' as a synonym of type is deprecated; in a future version of numpy, it will be understood as (type, (1,)) / '(1,)type'.\n",
      "  _np_quint8 = np.dtype([(\"quint8\", np.uint8, 1)])\n",
      "/home/komaldadhich/Documents/study/Research/graph_percept/Chart-Image-Classification/venv/lib/python3.6/site-packages/tensorflow/python/framework/dtypes.py:471: FutureWarning: Passing (type, 1) or '1type' as a synonym of type is deprecated; in a future version of numpy, it will be understood as (type, (1,)) / '(1,)type'.\n",
      "  _np_qint16 = np.dtype([(\"qint16\", np.int16, 1)])\n",
      "/home/komaldadhich/Documents/study/Research/graph_percept/Chart-Image-Classification/venv/lib/python3.6/site-packages/tensorflow/python/framework/dtypes.py:472: FutureWarning: Passing (type, 1) or '1type' as a synonym of type is deprecated; in a future version of numpy, it will be understood as (type, (1,)) / '(1,)type'.\n",
      "  _np_quint16 = np.dtype([(\"quint16\", np.uint16, 1)])\n",
      "/home/komaldadhich/Documents/study/Research/graph_percept/Chart-Image-Classification/venv/lib/python3.6/site-packages/tensorflow/python/framework/dtypes.py:473: FutureWarning: Passing (type, 1) or '1type' as a synonym of type is deprecated; in a future version of numpy, it will be understood as (type, (1,)) / '(1,)type'.\n",
      "  _np_qint32 = np.dtype([(\"qint32\", np.int32, 1)])\n",
      "/home/komaldadhich/Documents/study/Research/graph_percept/Chart-Image-Classification/venv/lib/python3.6/site-packages/tensorflow/python/framework/dtypes.py:476: FutureWarning: Passing (type, 1) or '1type' as a synonym of type is deprecated; in a future version of numpy, it will be understood as (type, (1,)) / '(1,)type'.\n",
      "  np_resource = np.dtype([(\"resource\", np.ubyte, 1)])\n",
      "/home/komaldadhich/Documents/study/Research/graph_percept/Chart-Image-Classification/venv/lib/python3.6/importlib/_bootstrap.py:219: RuntimeWarning: compiletime version 3.5 of module 'tensorflow.python.framework.fast_tensor_util' does not match runtime version 3.6\n",
      "  return f(*args, **kwds)\n"
     ]
    }
   ],
   "source": [
    "from keras.layers import Conv2D, MaxPooling2D, Flatten,Dense, Activation\n",
    "from keras.models import model_from_json\n",
    "from keras.models import Sequential\n",
    "from keras.utils import to_categorical\n",
    "from PIL import Image # used for loading images\n",
    "import numpy as np\n",
    "import os # used for navigating to image path\n",
    "import imageio # used for writing images\n",
    "import pandas as pd\n",
    "import cv2\n",
    "import numpy as np\n",
    "from PIL import Image\n",
    "import os, sys\n",
    "import glob\n",
    "\n",
    "import matplotlib.pyplot as plt\n",
    "%matplotlib inline"
   ]
  },
  {
   "cell_type": "code",
   "execution_count": 2,
   "metadata": {},
   "outputs": [],
   "source": [
    "def load_data(csv_path):\n",
    "    image_data = []\n",
    "    label_data = []\n",
    "    df = pd.read_csv(csv_path, sep=\",\", index_col=False)\n",
    "    data_len = len(df['Image_path'])\n",
    "    for i in range(data_len):\n",
    "        temp = cv2.imread(df['Image_path'][i])\n",
    "        temp = (cv2.cvtColor(temp, cv2.COLOR_BGR2RGB)).tolist()\n",
    "        image_data.append(temp)\n",
    "        if df['Class'][i] == 'bar':\n",
    "            label_data.append([1, 0, 0, 0])\n",
    "#             label_data.append(1)\n",
    "        elif df['Class'][i] == 'scatterplot':\n",
    "            label_data.append([0, 1, 0, 0])\n",
    "#               label_data.append(2)\n",
    "        elif df['Class'][i] == 'line':\n",
    "            label_data.append([0, 0, 1, 0])\n",
    "#             label_data.append(3)\n",
    "        else:\n",
    "            label_data.append([0, 0, 0, 1])\n",
    "#             label_data.append(4)\n",
    "    return (image_data, label_data)"
   ]
  },
  {
   "cell_type": "code",
   "execution_count": 3,
   "metadata": {},
   "outputs": [],
   "source": [
    "X_test, y_test = load_data(\"/home/komaldadhich/Documents/study/Research/graph_percept/source/project/chart_percept/Chart_classifier/dataset/test/labels.csv\")"
   ]
  },
  {
   "cell_type": "code",
   "execution_count": 4,
   "metadata": {},
   "outputs": [],
   "source": [
    "X_train, y_train = load_data(\"/home/komaldadhich/Documents/study/Research/graph_percept/source/project/chart_percept/Chart_classifier/dataset2/train/labels.csv\")"
   ]
  },
  {
   "cell_type": "code",
   "execution_count": null,
   "metadata": {},
   "outputs": [],
   "source": [
    "X_train = np.array(X_train)\n",
    "X_test = np.array(X_test)\n",
    "y_train = np.array(y_train)\n",
    "y_test = np.array(y_test)\n",
    "print(X_test.shape)\n",
    "print(X_train.shape)\n",
    "print (y_train[0])\n",
    "print len(y_test)\n",
    "plt.imshow(X_train[0])"
   ]
  },
  {
   "cell_type": "code",
   "execution_count": null,
   "metadata": {},
   "outputs": [],
   "source": [
    "X_train = X_train.reshape(1865,200,200,3)\n",
    "X_test = X_test.reshape(247,200,200,3)\n",
    "X_train = X_train.astype('float32')\n",
    "X_test = X_test.astype('float32')\n",
    "X_train /= 255.0\n",
    "# X_test /= 255.0\n",
    "# y_train = to_categorical(y_train,num_classes)\n",
    "# y_test = to_categorical(y_test, num_classes)"
   ]
  },
  {
   "cell_type": "code",
   "execution_count": null,
   "metadata": {},
   "outputs": [],
   "source": [
    "print(X_train.shape)\n",
    "print(y_train.shape)\n",
    "print(X_test.shape)\n",
    "print(y_test.shape)"
   ]
  },
  {
   "cell_type": "code",
   "execution_count": null,
   "metadata": {},
   "outputs": [],
   "source": [
    "cnn = Sequential()\n",
    "cnn.add(Conv2D(16, kernel_size=(3,3),input_shape=(200,200,3), padding='same', activation='relu', data_format='channels_last'))\n",
    "# cnn.add(Conv2D(16, kernel_size=(3,3), padding='same', activation='relu'))\n",
    "# cnn.add(Activation('relu'))\n",
    "print (cnn.output_shape)\n",
    "cnn.add(MaxPooling2D())\n",
    "cnn.add(Conv2D(16, kernel_size=(3,3),padding='same', activation='relu'))\n",
    "# cnn.add(Conv2D(16, kernel_size=(3,3), padding='same', activation='relu'))\n",
    "# cnn.add(Activation('relu'))\n",
    "cnn.add(MaxPooling2D())\n",
    "cnn.add(Conv2D(32, kernel_size=(3,3),padding='same', activation='relu'))\n",
    "# cnn.add(Conv2D(32, kernel_size=(3,3), padding='same', activation='relu'))\n",
    "# cnn.add(Activation('relu'))\n",
    "cnn.add(MaxPooling2D())\n",
    "cnn.add(Conv2D(64, kernel_size=(3,3),padding='same', activation='relu'))\n",
    "# cnn.add(Conv2D(64, kernel_size=(3,3), padding='same', activation='relu'))\n",
    "# cnn.add(Activation('relu'))\n",
    "cnn.add(MaxPooling2D())\n",
    "cnn.add(Conv2D(64, kernel_size=(1,1),padding='same', activation='relu'))\n",
    "# cnn.add(Conv2D(64, kernel_size=(3,3), padding='same', activation='relu'))\n",
    "# cnn.add(Activation('relu'))\n",
    "cnn.add(MaxPooling2D())\n",
    "cnn.add(Conv2D(64, kernel_size=(1,1),padding='same', activation='relu'))\n",
    "# cnn.add(Conv2D(64, kernel_size=(3,3), padding='same', activation='relu'))\n",
    "# cnn.add(Activation('relu'))\n",
    "cnn.add(MaxPooling2D())\n",
    "# cnn.add(Flatten())        \n",
    "# print cnn.output_shape\n",
    "# cnn.add(Dense(512, activation='relu'))\n",
    "# # cnn.add(Flatten()) \n",
    "# # cnn.add(Activation('relu'))\n",
    "# # cnn.add(Dropout(0.25))\n",
    "# cnn.add(Dense(4, activation='softmax'))\n",
    "cnn.compile(loss='categorical_crossentropy', optimizer='adam', metrics=['accuracy'])\n",
    "cnn.summary()"
   ]
  }
 ],
 "metadata": {
  "kernelspec": {
   "display_name": "venv",
   "language": "python",
   "name": "venv"
  },
  "language_info": {
   "codemirror_mode": {
    "name": "ipython",
    "version": 3
   },
   "file_extension": ".py",
   "mimetype": "text/x-python",
   "name": "python",
   "nbconvert_exporter": "python",
   "pygments_lexer": "ipython3",
   "version": "3.6.8"
  }
 },
 "nbformat": 4,
 "nbformat_minor": 2
}
